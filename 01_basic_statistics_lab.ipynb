{
  "cells": [
    {
      "cell_type": "markdown",
      "metadata": {
        "id": "view-in-github",
        "colab_type": "text"
      },
      "source": [
        "<a href=\"https://colab.research.google.com/github/mathgds/introducao_a_ciencia_de_dados/blob/main/01_basic_statistics_lab.ipynb\" target=\"_parent\"><img src=\"https://colab.research.google.com/assets/colab-badge.svg\" alt=\"Open In Colab\"/></a>"
      ]
    },
    {
      "cell_type": "markdown",
      "id": "01f11313",
      "metadata": {
        "id": "01f11313"
      },
      "source": [
        "# Introdução às Medidas Estatísticas Básicas com Pandas\n",
        "Este notebook irá guiá-lo através de algumas medidas estatísticas básicas utilizando a biblioteca pandas. Vamos abordar:\n",
        "\n",
        "1. Média\n",
        "2. Mediana\n",
        "3. Moda\n",
        "4. Desvio Padrão\n",
        "5. Variância\n",
        "6. Quartis e Percentis"
      ]
    },
    {
      "cell_type": "markdown",
      "source": [
        "## Importando Bibliotecas Necessárias\n",
        "\n",
        "Primeiro, vamos importar as bibliotecas necessárias.\n",
        "\n",
        "* **pandas**\n",
        "\n",
        "A biblioteca pandas é uma poderosa ferramenta para análise de dados. Ela oferece estruturas de dados flexíveis e ferramentas para manipulação e análise de dados numéricos e tabulares. É comum importá-la usando o alias pd, o que facilita o uso ao longo do código.\n",
        "\n",
        "* **matplotlib.pyplot**\n",
        "\n",
        "Matplotlib é uma biblioteca amplamente utilizada para visualização de dados em Python. matplotlib.pyplot é um módulo dentro do matplotlib que fornece uma interface semelhante ao MATLAB para criação de gráficos. Ao importá-lo com o alias plt, simplifica-se o uso posterior para criar gráficos e visualizações.\n",
        "Essas duas bibliotecas são frequentemente usadas em conjunto para carregar, manipular e visualizar dados de forma eficiente e poderosa."
      ],
      "metadata": {
        "id": "dp-9DQOrMeA-"
      },
      "id": "dp-9DQOrMeA-"
    },
    {
      "cell_type": "code",
      "execution_count": null,
      "id": "593697cf",
      "metadata": {
        "id": "593697cf"
      },
      "outputs": [],
      "source": [
        "import pandas as pd                   # A funcao \"import\" importa as bibliotecas que serao utilizadas pelo codigo, \"as\" serve para definir como elas serao chamadas no script.\n",
        "import matplotlib.pyplot as plt"
      ]
    },
    {
      "cell_type": "markdown",
      "id": "69e9a8af",
      "metadata": {
        "id": "69e9a8af"
      },
      "source": [
        "## Criando o DataFrame\n",
        "\n",
        "Um DataFrame é uma estrutura de dados bidimensional tabular em pandas, semelhante a uma planilha ou tabela de banco de dados. Ele consiste em linhas e colunas, onde cada coluna pode conter diferentes tipos de dados (por exemplo, números inteiros, números de ponto flutuante, strings, etc.).\n",
        "\n",
        "Características principais de um DataFrame:\n",
        "\n",
        "* Tabular: Organizado em linhas e colunas, como uma tabela.\n",
        "Indexação: Cada linha e coluna possui um rótulo de índice para identificação rápida.\n",
        "* Flexibilidade: Suporta diferentes tipos de dados em cada coluna.\n",
        "Operações: Oferece diversas operações para manipulação, limpeza e análise de dados.\n",
        "Os DataFrames são amplamente utilizados para análise de dados em Python devido à sua flexibilidade e eficiência na manipulação de grandes volumes de dados.\n",
        "\n",
        "Vamos criar o DataFrame com os dados que iremos utilizar nos exemplos."
      ]
    },
    {
      "cell_type": "code",
      "execution_count": null,
      "id": "6ce414f1",
      "metadata": {
        "id": "6ce414f1",
        "outputId": "dc573f05-1298-41f3-dd58-42e6b44468bb",
        "colab": {
          "base_uri": "https://localhost:8080/"
        }
      },
      "outputs": [
        {
          "output_type": "stream",
          "name": "stdout",
          "text": [
            "   values\n",
            "0      10\n",
            "1      20\n",
            "2      30\n",
            "3      40\n",
            "4      50\n"
          ]
        }
      ],
      "source": [
        "# Criando o DataFrame\n",
        "data = pd.DataFrame({'values': [10, 20, 30, 40, 50]}) # pd.DataFrame cria um DataFrame utilizando um dicionário como argumento, a palavra \"values\" representa o nome da coluna,\n",
        "                                                      # os numeros entre parenteses representam os valores desta coluna.\n",
        "print(data)                                           # a funcao print exibe os a saida."
      ]
    },
    {
      "cell_type": "markdown",
      "id": "e3722a78",
      "metadata": {
        "id": "e3722a78"
      },
      "source": [
        "## 1. Média\n",
        "A média é a soma de todos os valores dividido pelo número de valores."
      ]
    },
    {
      "cell_type": "code",
      "execution_count": null,
      "id": "8e617b70",
      "metadata": {
        "id": "8e617b70",
        "outputId": "cd2f0ae3-4878-4fde-b680-c17f1bd2ed6a",
        "colab": {
          "base_uri": "https://localhost:8080/"
        }
      },
      "outputs": [
        {
          "output_type": "stream",
          "name": "stdout",
          "text": [
            "Mean: 30.0\n"
          ]
        }
      ],
      "source": [
        "# Exemplo de cálulo da média\n",
        "mean = data['values'].mean()        # funcao '.mean' do pandas para calcular a media dos valores dentro do DataFrame: 'data['values']' acessa os valores.\n",
        "                                    # a variavel 'mean' armazena o valor da media.\n",
        "print(\"Mean:\", mean)                # a funcao print exibe o valor armazenado na variavel 'mean' precedido da string: \"Mean:\"."
      ]
    },
    {
      "cell_type": "markdown",
      "id": "e15053b1",
      "metadata": {
        "id": "e15053b1"
      },
      "source": [
        "## 2. Mediana\n",
        "A mediana é o valor central quando os dados estão ordenados."
      ]
    },
    {
      "cell_type": "code",
      "execution_count": null,
      "id": "6eb4da6b",
      "metadata": {
        "id": "6eb4da6b"
      },
      "outputs": [],
      "source": [
        "# Exemplo de calculo da media\n",
        "median = data['values'].median()    # Da mesma forma que o anterior, e utilizado o metodo '.median()' para calcular a mediana da variavel data, entre colchetes\n",
        "                                    # esta a coluna de interesse.\n",
        "print(\"Median:\", median)            # Exibe na tela o valor da mediana da coluna anterior, armazenado na variavel 'median', precedido da string \"Median:\""
      ]
    },
    {
      "cell_type": "markdown",
      "id": "7bdbe0ef",
      "metadata": {
        "id": "7bdbe0ef"
      },
      "source": [
        "## 3. Moda\n",
        "A moda é o valor que aparece com mais frequência nos dados."
      ]
    },
    {
      "cell_type": "code",
      "execution_count": null,
      "id": "715d64c5",
      "metadata": {
        "id": "715d64c5"
      },
      "outputs": [],
      "source": [
        "# Exemplo de calculo da moda\n",
        "mode = data['values'].mode()            # Analogo aos anteriores, agora usa-se o metodo '.mode()'.\n",
        "print(\"Mode:\", mode[0])"
      ]
    },
    {
      "cell_type": "markdown",
      "id": "d2a707fd",
      "metadata": {
        "id": "d2a707fd"
      },
      "source": [
        "## 4. Desvio Padrão\n",
        "O desvio padrão mede a dispersão dos dados em relação à média."
      ]
    },
    {
      "cell_type": "code",
      "execution_count": null,
      "id": "000bba44",
      "metadata": {
        "id": "000bba44"
      },
      "outputs": [],
      "source": [
        "# Exemplo de calculo do desvio padrao\n",
        "std_dev = data['values'].std()          # Criacao de uma variavel chamada 'std_dev' para armazenar o valor do desvio padrao da coluna 'values' da matriz data.\n",
        "                                        # o metodo usadao e o '.std()'.\n",
        "print(\"Standard Deviation:\", std_dev)"
      ]
    },
    {
      "cell_type": "markdown",
      "id": "96415f42",
      "metadata": {
        "id": "96415f42"
      },
      "source": [
        "\n",
        "## 5. Variância\n",
        "A variância é o quadrado do desvio padrão."
      ]
    },
    {
      "cell_type": "code",
      "execution_count": null,
      "id": "5e88e1cd",
      "metadata": {
        "id": "5e88e1cd"
      },
      "outputs": [],
      "source": [
        "# Exemplo de calculo da variancia\n",
        "variance = data['values'].var()       # Analogo aos anteriores, metodo '.var()'.\n",
        "print(\"Variance:\", variance)"
      ]
    },
    {
      "cell_type": "markdown",
      "id": "a221087d",
      "metadata": {
        "id": "a221087d"
      },
      "source": [
        "## 6. Quartis e Percentis\n",
        "Quartis dividem os dados em quatro partes iguais. Percentis são semelhantes, mas dividem os dados em 100 partes iguais.\n",
        "\n",
        "\n",
        "\n"
      ]
    },
    {
      "cell_type": "code",
      "execution_count": null,
      "id": "3bc76b5f",
      "metadata": {
        "id": "3bc76b5f",
        "colab": {
          "base_uri": "https://localhost:8080/"
        },
        "outputId": "f5ee557d-bcf2-479b-e2ab-c2ff1f019429"
      },
      "outputs": [
        {
          "output_type": "stream",
          "name": "stdout",
          "text": [
            "1st Quartile (Q1): 20.0\n",
            "2nd Quartile (Q2): 30.0\n",
            "3rd Quartile (Q3): 40.0\n",
            "90th Percentile: 46.0\n"
          ]
        }
      ],
      "source": [
        "# Example of calculating quartiles\n",
        "Q1 = data['values'].quantile(0.25)  # Q1 armazena os valores que serao calculados para o primeiro quartil, que e o valor abaixo de 25% dos dados da coluna [values] do dataFrame\n",
        "Q2 = data['values'].quantile(0.50)  # Equivalente a mediana, 50% abaixo e 50% acima\n",
        "Q3 = data['values'].quantile(0.75)\n",
        "print(\"1st Quartile (Q1):\", Q1)\n",
        "print(\"2nd Quartile (Q2):\", Q2)  # This is the same as the median\n",
        "print(\"3rd Quartile (Q3):\", Q3)\n",
        "\n",
        "# Example of calculating percentiles\n",
        "percentile_90 = data['values'].quantile(0.90) # Armazena o valor do percentil 90, representando o ponto onde 90% dos dados estão\n",
        "print(\"90th Percentile:\", percentile_90)"
      ]
    },
    {
      "cell_type": "markdown",
      "id": "45efab78",
      "metadata": {
        "id": "45efab78"
      },
      "source": [
        "## Visualização de Dados\n",
        "Vamos usar um boxplot para visualizar a distribuição dos dados."
      ]
    },
    {
      "cell_type": "code",
      "execution_count": null,
      "id": "29165df6",
      "metadata": {
        "id": "29165df6",
        "colab": {
          "base_uri": "https://localhost:8080/",
          "height": 452
        },
        "outputId": "6c685986-f01c-4a96-fb22-13fab083091e"
      },
      "outputs": [
        {
          "output_type": "display_data",
          "data": {
            "text/plain": [
              "<Figure size 640x480 with 1 Axes>"
            ],
            "image/png": "[encoded data removed]"
          },
          "metadata": {}
        }
      ],
      "source": [
        "# Exemplo de visualizacao para criar um boxplot dos valores contidos na coluna 'values' do dataFrame, usando a biblioteca Matplotlib\n",
        "plt.boxplot(data['values']) # Criando o boxplot\n",
        "plt.title(\"Boxplot of the Data\") # Titulo do grafico\n",
        "plt.show() # Exibe o grafico"
      ]
    },
    {
      "cell_type": "markdown",
      "id": "e21e8421",
      "metadata": {
        "id": "e21e8421"
      },
      "source": [
        "## Conclusão\n",
        "Neste notebook, cobrimos algumas medidas estatísticas básicas, incluindo média, mediana, moda, desvio padrão, variância, quartis e percentis. Além disso, visualizamos a distribuição dos dados usando um boxplot. Esperamos que este notebook ajude você a entender melhor essas medidas e como aplicá-las aos seus dados."
      ]
    }
  ],
  "metadata": {
    "colab": {
      "provenance": [],
      "include_colab_link": true
    },
    "language_info": {
      "name": "python"
    },
    "kernelspec": {
      "name": "python3",
      "display_name": "Python 3"
    }
  },
  "nbformat": 4,
  "nbformat_minor": 5
}