{
  "nbformat": 4,
  "nbformat_minor": 0,
  "metadata": {
    "colab": {
      "provenance": [],
      "include_colab_link": true
    },
    "kernelspec": {
      "name": "python3",
      "display_name": "Python 3"
    },
    "language_info": {
      "name": "python"
    }
  },
  "cells": [
    {
      "cell_type": "markdown",
      "metadata": {
        "id": "view-in-github",
        "colab_type": "text"
      },
      "source": [
        "<a href=\"https://colab.research.google.com/github/mathgds/introducao_a_ciencia_de_dados/blob/main/03_data_split_and_cross_validation_lab.ipynb\" target=\"_parent\"><img src=\"https://colab.research.google.com/assets/colab-badge.svg\" alt=\"Open In Colab\"/></a>"
      ]
    },
    {
      "cell_type": "markdown",
      "source": [
        "# Demonstração de divisão de dados e validação cruzada\n",
        "\n",
        "## 1. Introdução\n",
        "Este caderno oferece uma introdução à regressão linear. Vamos criar um conjunto de dados sintético, ajustar um modelo de regressão linear e avaliar seu desempenho em quatro cenários diferentes:\n",
        "\n",
        "1. Sem dividir os dados\n",
        "2. Com os dados divididos em conjuntos de treinamento e teste\n",
        "3. Usando validação cruzada\n",
        "4. Comparando diferentes números de divisões (folds) na validação cruzada"
      ],
      "metadata": {
        "id": "XQvqHTQfpiOh"
      }
    },
    {
      "cell_type": "markdown",
      "source": [
        "## 2. Importando bibliotecas"
      ],
      "metadata": {
        "id": "9d1UtfFgpxBH"
      }
    },
    {
      "cell_type": "code",
      "source": [
        "import numpy as np\n",
        "import pandas as pd\n",
        "import matplotlib.pyplot as plt\n",
        "\n",
        "from sklearn.linear_model import LinearRegression # Importa o módulo LinearRegression da biblioteca scikit-learn,\n",
        "                                                  # que fornece ferramentas para criar e treinar modelos de regressão linear.\n",
        "\n",
        "from sklearn.model_selection import train_test_split, cross_val_score # 1. train_test_split: Usada para dividir um conjunto de dados em conjuntos de treinamento e teste.\n",
        "                                                                      # 2. cross_val_score: Usada para realizar validação cruzada e avaliar o\n",
        "                                                                      # desempenho do modelo em diferentes divisões do conjunto de dados.\n",
        "\n",
        "from sklearn.metrics import mean_squared_error, r2_score # mean_squared_error: Calcula o Erro Quadrático Médio (MSE), que mede a média dos quadrados dos erros,\n",
        "                                                         # ou seja, a diferença entre valores previstos e reais.\n",
        "                                                         # r2_score: Calcula o coeficiente de determinação (R²), que indica a proporção da variância dos dados\n",
        "                                                         # que é explicada pelo modelo."
      ],
      "metadata": {
        "id": "ja6bBsHlpy6I"
      },
      "execution_count": null,
      "outputs": []
    },
    {
      "cell_type": "markdown",
      "source": [
        "## 3. Criando um conjunto de dados sintéticos\n",
        "Definindo o tamanho do conjunto de dados."
      ],
      "metadata": {
        "id": "6iAenRHLp2Kg"
      }
    },
    {
      "cell_type": "code",
      "source": [
        "# Gerando dados aleatórios\n",
        "n_samples = 100     # Define o número de amostras (ou linhas) no conjunto de dados como 100.\n",
        "\n",
        "np.random.seed(42)  # Define uma semente para o gerador de números aleatórios, garantindo que os resultados sejam reproduzíveis.\n",
        "                    # A mesma semente produz os mesmos números aleatórios em execuções diferentes.\n",
        "\n",
        "X = 2 * np.random.rand(n_samples, 1)  # Gera uma matriz X com n_samples linhas e 1 coluna, preenchida com números aleatórios uniformemente distribuídos entre 0 e 2.\n",
        "\n",
        "y = 4 + 3 * X + np.random.randn(n_samples, 1) # Cria o vetor y como uma função linear de X (com intercepto 4 e coeficiente 3) e\n",
        "                                              # adiciona um ruído aleatório (distribuição normal com média 0 e desvio padrão 1) para simular dados reais.\n",
        "\n",
        "# Criando um DataFrame\n",
        "data = pd.DataFrame(data=np.hstack((X, y)), columns=['Feature', 'Target'])\n",
        "\n",
        "# Exibe as 5 primeiras linhas do DataFrame\n",
        "data.head() # Exibe as primeiras 5 linhas do DataFrame para uma rápida visualização dos dados gerados."
      ],
      "metadata": {
        "id": "HwcT1Lq3p5Ao"
      },
      "execution_count": null,
      "outputs": []
    },
    {
      "cell_type": "markdown",
      "source": [
        "## 4. Análise Exploratória de Dados\n",
        "Visualizando a relação entre a característica e o alvo."
      ],
      "metadata": {
        "id": "O07Rjb5Sp71I"
      }
    },
    {
      "cell_type": "code",
      "source": [
        "# Criando o Gráfico de Dispersão\n",
        "plt.scatter(data['Feature'], data['Target'])\n",
        "\n",
        "# Adicionando Rótulos aos Eixos\n",
        "plt.xlabel('Feature')\n",
        "plt.ylabel('Target')\n",
        "\n",
        "# Adicionando um Título ao Gráfico\n",
        "plt.title('Feature vs Target')\n",
        "\n",
        "# Exibindo o Gráfico\n",
        "plt.show()"
      ],
      "metadata": {
        "id": "F2Kw8PfAp_Xp"
      },
      "execution_count": null,
      "outputs": []
    },
    {
      "cell_type": "markdown",
      "source": [
        "## 5. Cenário 1: Sem divisão dos dados"
      ],
      "metadata": {
        "id": "qq8M1S7-qBvo"
      }
    },
    {
      "cell_type": "code",
      "source": [
        "# Treinando o modelo de regressao linear\n",
        "model = LinearRegression() # Cria uma instância do modelo de regressão linear da biblioteca scikit-learn.\n",
        "model.fit(data[['Feature']], data['Target']) # Treina o modelo de regressão linear usando o método fit."
      ],
      "metadata": {
        "id": "sxTVmbUsqDth"
      },
      "execution_count": null,
      "outputs": []
    },
    {
      "cell_type": "code",
      "source": [
        "# Avaliando o modelo\n",
        "y_pred = model.predict(data[['Feature']]) # Usa o modelo treinado para fazer previsões com base nos dados da coluna 'Feature'.\n",
        "                                          # O método predict gera previsões da variável dependente ('Target') para cada entrada na variável independente ('Feature').\n",
        "\n",
        "mse1 = mean_squared_error(data['Target'], y_pred) # Calcula o Erro Quadrático Médio (MSE) entre os valores reais (data['Target']) e os valores previstos (y_pred).\n",
        "r2_1 = r2_score(data['Target'], y_pred) # Calcula o coeficiente de determinação (R²) que indica a proporção da variância dos dados que é explicada pelo modelo.\n",
        "print(f'Scenario 1 - MSE: {mse1}')\n",
        "print(f'Scenario 1 - R²: {r2_1}')"
      ],
      "metadata": {
        "id": "IVdBCM_BqzCX"
      },
      "execution_count": null,
      "outputs": []
    },
    {
      "cell_type": "markdown",
      "source": [
        "## 6. Cenário 2: Dividindo os dados em conjuntos de treinamento e teste"
      ],
      "metadata": {
        "id": "__8WiS6oqFJQ"
      }
    },
    {
      "cell_type": "code",
      "source": [
        "# Dividindo os dados\n",
        "X_train, X_test, y_train, y_test = train_test_split(data[['Feature']], data['Target'], test_size=0.2, random_state=42)\n",
        "# train_test_split: Esta função divide o conjunto de dados em dois conjuntos: treinamento e teste.\n",
        "\n",
        "# O resultado da função train_test_split é atribuído a quatro variáveis:\n",
        "\n",
        "# X_train: Dados de entrada para treinamento.\n",
        "# X_test: Dados de entrada para teste.\n",
        "# y_train: Rótulos (ou valores) para treinamento.\n",
        "# y_test: Rótulos (ou valores) para teste.\n",
        "\n",
        "# Treinando o modelo de regressão linear\n",
        "model = LinearRegression()\n",
        "model.fit(X_train, y_train)"
      ],
      "metadata": {
        "id": "w060dJP-qGRA"
      },
      "execution_count": null,
      "outputs": []
    },
    {
      "cell_type": "code",
      "source": [
        "# Evaluating the Model on Training Data\n",
        "y_train_pred = model.predict(X_train)\n",
        "\n",
        "# Usa o modelo treinado para fazer previsões com base nos dados de treinamento (X_train).\n",
        "# A saída, y_train_pred, contém as previsões do modelo para os valores de y correspondentes aos dados de entrada em X_train.\n",
        "\n",
        "mse2_train = mean_squared_error(y_train, y_train_pred)  # Calcula o Erro Quadrático Médio (MSE) para os dados de treinamento.\n",
        "\n",
        "r2_2_train = r2_score(y_train, y_train_pred)  # Calcula o coeficiente de determinação (R²) para os dados de treinamento.\n",
        "\n",
        "print(f'Scenario 2 - Training MSE: {mse2_train}')\n",
        "print(f'Scenario 2 - Training R²: {r2_2_train}')"
      ],
      "metadata": {
        "id": "40EPTzChqKAh"
      },
      "execution_count": null,
      "outputs": []
    },
    {
      "cell_type": "code",
      "source": [
        "# Avaliando o modelo com dados de teste\n",
        "y_test_pred = model.predict(X_test)\n",
        "mse2_test = mean_squared_error(y_test, y_test_pred)\n",
        "r2_2_test = r2_score(y_test, y_test_pred)\n",
        "print(f'Scenario 2 - Testing MSE: {mse2_test}')\n",
        "print(f'Scenario 2 - Testing R²: {r2_2_test}')"
      ],
      "metadata": {
        "id": "s-MBb_JBqMG4"
      },
      "execution_count": null,
      "outputs": []
    },
    {
      "cell_type": "markdown",
      "source": [
        "## 7. Cenário 3: Usando Validação Cruzada"
      ],
      "metadata": {
        "id": "5dPuLi2IqOSY"
      }
    },
    {
      "cell_type": "code",
      "source": [
        "# Validação Cruzada\n",
        "\n",
        "# cross_val_score: Esta função realiza a validação cruzada, que é uma técnica para avaliar o desempenho do modelo de forma mais robusta,\n",
        "#                dividindo os dados em múltiplas partes e treinando/testando o modelo em cada parte.\n",
        "\n",
        "cv_mse = -cross_val_score(model, data[['Feature']], data['Target'], cv=5, scoring='neg_mean_squared_error')\n",
        "cv_r2 = cross_val_score(model, data[['Feature']], data['Target'], cv=5, scoring='r2')\n",
        "\n",
        "# Avaliando o modelo\n",
        "mse3 = cv_mse.mean()\n",
        "r2_3 = cv_r2.mean()\n",
        "print(f'Scenario 3 - MSE: {mse3}')\n",
        "print(f'Scenario 3 - R²: {r2_3}')"
      ],
      "metadata": {
        "id": "LdqQQbXqqQVo"
      },
      "execution_count": null,
      "outputs": []
    },
    {
      "cell_type": "markdown",
      "source": [
        "## 8. Cenário 4: Comparando diferentes números de partições na Validação Cruzada"
      ],
      "metadata": {
        "id": "P2djcfhYqUIw"
      }
    },
    {
      "cell_type": "code",
      "source": [
        "# Comparing different numbers of folds in cross-validation\n",
        "\n",
        "folds = [3, 5, 10, 20] # Definindo o numero de partições\n",
        "\n",
        "# Listas vazias que serão usadas para armazenar as médias dos MSE e R² para cada número de folds.\n",
        "mse_scores = []\n",
        "r2_scores = []\n",
        "\n",
        "for k in folds: # O loop for itera sobre cada valor de k na lista folds, onde k representa o número de folds para a validação cruzada.\n",
        "\n",
        "    cv_mse = -cross_val_score(model, data[['Feature']], data['Target'], cv=k, scoring='neg_mean_squared_error')\n",
        "    # cross_val_score: Realiza a validação cruzada com k folds.\n",
        "    # scoring='neg_mean_squared_error': Calcula o MSE, retornado como valor negativo, por isso o - é usado para inverter o sinal e obter o valor positivo do MSE.\n",
        "\n",
        "    cv_r2 = cross_val_score(model, data[['Feature']], data['Target'], cv=k, scoring='r2')\n",
        "    # scoring='r2': Calcula o coeficiente de determinação (R²).\n",
        "\n",
        "    mse_scores.append(cv_mse.mean())\n",
        "    # Calcula a média dos MSEs obtidos durante a validação cruzada para o número atual de folds e adiciona à lista mse_scores.\n",
        "    r2_scores.append(cv_r2.mean())\n",
        "    # Calcula a média dos R² obtidos durante a validação cruzada para o número atual de folds e adiciona à lista r2_scores.\n",
        "\n",
        "    print(f'{k}-fold CV - MSE: {cv_mse.mean()}')\n",
        "    print(f'{k}-fold CV - R²: {cv_r2.mean()}')"
      ],
      "metadata": {
        "id": "6AGGlH4_qU-o"
      },
      "execution_count": null,
      "outputs": []
    },
    {
      "cell_type": "code",
      "source": [
        "# Exibindo os resultados\n",
        "plt.figure(figsize=(12, 5))\n",
        "\n",
        "plt.subplot(1, 2, 1)\n",
        "plt.plot(folds, mse_scores, marker='o')\n",
        "plt.title('MSE vs. Number of Folds')\n",
        "plt.xlabel('Number of Folds')\n",
        "plt.ylabel('MSE')\n",
        "\n",
        "plt.subplot(1, 2, 2)\n",
        "plt.plot(folds, r2_scores, marker='o')\n",
        "plt.title('R² vs. Number of Folds')\n",
        "plt.xlabel('Number of Folds')\n",
        "plt.ylabel('R²')\n",
        "\n",
        "plt.tight_layout()\n",
        "plt.show()"
      ],
      "metadata": {
        "id": "80l7y4-oqcEA"
      },
      "execution_count": null,
      "outputs": []
    },
    {
      "cell_type": "markdown",
      "source": [
        "## 9. Comparação de todos os cenários"
      ],
      "metadata": {
        "id": "N9POjFa1qgkA"
      }
    },
    {
      "cell_type": "code",
      "source": [
        "# Comparando todos os cenários\n",
        "#scenarios = ['No Split', 'Train/Test Split (Train)', 'Train/Test Split (Test)', '5-Fold CV', '3-Fold CV', '10-Fold CV', '20-Fold CV']\n",
        "#mse_all = [mse1, mse2_train, mse2_test, mse_cv] + mse_scores\n",
        "#r2_all = [r2_1, r2_2_train, r2_2_test, r2_cv] + r2_scores\n",
        "\n",
        "scenarios = ['No Split', 'Train/Test Split (Train)', 'Train/Test Split (Test)', '3-Fold CV', '5-Fold CV', '10-Fold CV', '20-Fold CV']\n",
        "mse_all = [mse1, mse2_train, mse2_test] + mse_scores\n",
        "r2_all = [r2_1, r2_2_train, r2_2_test] + r2_scores\n",
        "\n",
        "# Plotting the comparison\n",
        "plt.figure(figsize=(14, 6))\n",
        "plt.subplot(1, 2, 1)\n",
        "plt.barh(scenarios, mse_all, color='skyblue')\n",
        "plt.xlabel('MSE')\n",
        "plt.title('Comparison of MSE across Scenarios')\n",
        "\n",
        "plt.subplot(1, 2, 2)\n",
        "plt.barh(scenarios, r2_all, color='lightgreen')\n",
        "plt.xlabel('R²')\n",
        "plt.title('Comparison of R² across Scenarios')\n",
        "\n",
        "plt.tight_layout()\n",
        "plt.show()"
      ],
      "metadata": {
        "id": "QaXY5siGqitA"
      },
      "execution_count": null,
      "outputs": []
    },
    {
      "cell_type": "markdown",
      "source": [
        "## 10. Conclusão\n",
        "Nesse caderno, nós criamos um conjunto de dados sintéticos e os ajustamos à uma regressão linear. Nós validamos a performance do modelo usando MSE e R² em quatro diferentes cenários:\n",
        "\n",
        "1. Sem dividir os dados\n",
        "2. Dividindo os dados em conjuntos de treinamento e teste\n",
        "3. Utilizando Validação Cruzada\n",
        "4. Comparando diferente números de partições na validação cruzada\n",
        "\n",
        "Por fim, nós comparamos os resultados de todos os cenários para entender o impacto de diferentes métodos de validação e o número de partições no desempenho do modelo.\n"
      ],
      "metadata": {
        "id": "S_j6W2qBqnuQ"
      }
    }
  ]
}